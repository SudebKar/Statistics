{
 "cells": [
  {
   "cell_type": "markdown",
   "metadata": {},
   "source": [
    "### Importing all required libaries"
   ]
  },
  {
   "cell_type": "code",
   "execution_count": 1,
   "metadata": {},
   "outputs": [],
   "source": [
    "import numpy as np\n",
    "import pandas as pd\n",
    "import matplotlib.pyplot as plt\n",
    "import seaborn as sns\n",
    "from scipy.stats import ttest_ind\n",
    "%matplotlib inline"
   ]
  },
  {
   "cell_type": "markdown",
   "metadata": {},
   "source": [
    "### Read the sales data from excel"
   ]
  },
  {
   "cell_type": "code",
   "execution_count": 2,
   "metadata": {
    "scrolled": true
   },
   "outputs": [
    {
     "data": {
      "text/html": [
       "<div>\n",
       "<style scoped>\n",
       "    .dataframe tbody tr th:only-of-type {\n",
       "        vertical-align: middle;\n",
       "    }\n",
       "\n",
       "    .dataframe tbody tr th {\n",
       "        vertical-align: top;\n",
       "    }\n",
       "\n",
       "    .dataframe thead th {\n",
       "        text-align: right;\n",
       "    }\n",
       "</style>\n",
       "<table border=\"1\" class=\"dataframe\">\n",
       "  <thead>\n",
       "    <tr style=\"text-align: right;\">\n",
       "      <th></th>\n",
       "      <th>Salary ($)</th>\n",
       "      <th>Position</th>\n",
       "      <th>Experience</th>\n",
       "    </tr>\n",
       "    <tr>\n",
       "      <th>Observation</th>\n",
       "      <th></th>\n",
       "      <th></th>\n",
       "      <th></th>\n",
       "    </tr>\n",
       "  </thead>\n",
       "  <tbody>\n",
       "    <tr>\n",
       "      <th>1</th>\n",
       "      <td>53938</td>\n",
       "      <td>Inside</td>\n",
       "      <td>Medium</td>\n",
       "    </tr>\n",
       "    <tr>\n",
       "      <th>2</th>\n",
       "      <td>52694</td>\n",
       "      <td>Inside</td>\n",
       "      <td>Medium</td>\n",
       "    </tr>\n",
       "    <tr>\n",
       "      <th>3</th>\n",
       "      <td>70515</td>\n",
       "      <td>Outside</td>\n",
       "      <td>Low</td>\n",
       "    </tr>\n",
       "    <tr>\n",
       "      <th>4</th>\n",
       "      <td>52031</td>\n",
       "      <td>Inside</td>\n",
       "      <td>Medium</td>\n",
       "    </tr>\n",
       "    <tr>\n",
       "      <th>5</th>\n",
       "      <td>62283</td>\n",
       "      <td>Outside</td>\n",
       "      <td>Low</td>\n",
       "    </tr>\n",
       "  </tbody>\n",
       "</table>\n",
       "</div>"
      ],
      "text/plain": [
       "             Salary ($) Position Experience\n",
       "Observation                                \n",
       "1                 53938   Inside     Medium\n",
       "2                 52694   Inside     Medium\n",
       "3                 70515  Outside        Low\n",
       "4                 52031   Inside     Medium\n",
       "5                 62283  Outside        Low"
      ]
     },
     "execution_count": 2,
     "metadata": {},
     "output_type": "execute_result"
    }
   ],
   "source": [
    "sales = pd.read_excel(\"SalesSalary.xlsx\", index_col=\"Observation\")\n",
    "sales.head()"
   ]
  },
  {
   "cell_type": "code",
   "execution_count": 24,
   "metadata": {},
   "outputs": [
    {
     "name": "stdout",
     "output_type": "stream",
     "text": [
      "Salary ($)    0\n",
      "Position      0\n",
      "Experience    0\n",
      "dtype: int64\n",
      "\n",
      "          Salary ($)\n",
      "count    120.000000\n",
      "mean   64925.475000\n",
      "std    10838.672975\n",
      "min    48621.000000\n",
      "25%    56274.250000\n",
      "50%    61489.500000\n",
      "75%    76092.250000\n",
      "max    88730.000000\n"
     ]
    }
   ],
   "source": [
    "#missing values\n",
    "print(sales.isnull().sum())\n",
    "print('\\n',sales.describe())"
   ]
  },
  {
   "cell_type": "code",
   "execution_count": 4,
   "metadata": {},
   "outputs": [
    {
     "data": {
      "image/png": "[encoded data removed]",
      "text/plain": [
       "<Figure size 288x432 with 1 Axes>"
      ]
     },
     "metadata": {
      "needs_background": "light"
     },
     "output_type": "display_data"
    }
   ],
   "source": [
    "sales.boxplot(\"Salary ($)\",\n",
    "              by = \"Position\",\n",
    "             figsize=(4,6));"
   ]
  },
  {
   "cell_type": "markdown",
   "metadata": {},
   "source": [
    "###### From the above plot it is evident that for the sample provided salary for Outside Position is quite higher than the Inside ones"
   ]
  },
  {
   "cell_type": "code",
   "execution_count": 3,
   "metadata": {},
   "outputs": [],
   "source": [
    "outside_sales = sales[sales[\"Position\"] == \"Outside\"]\n",
    "inside_sales = sales[sales[\"Position\"] == \"Inside\"]"
   ]
  },
  {
   "cell_type": "code",
   "execution_count": 5,
   "metadata": {},
   "outputs": [
    {
     "data": {
      "text/plain": [
       "Ttest_indResult(statistic=15.86002634068392, pvalue=9.675129625763386e-27)"
      ]
     },
     "execution_count": 5,
     "metadata": {},
     "output_type": "execute_result"
    }
   ],
   "source": [
    "ttest_ind(outside_sales[\"Salary ($)\"],\n",
    "         inside_sales[\"Salary ($)\"],\n",
    "         equal_var=False)\n",
    "##p-value is much less than 0.05; we can assume rejecting the hypothesis that H0 --> u1 = u2"
   ]
  },
  {
   "cell_type": "code",
   "execution_count": 13,
   "metadata": {},
   "outputs": [
    {
     "data": {
      "image/png": "[encoded data removed]",
      "text/plain": [
       "<Figure size 432x288 with 1 Axes>"
      ]
     },
     "metadata": {
      "needs_background": "light"
     },
     "output_type": "display_data"
    }
   ],
   "source": [
    "fig, ax = plt.subplots()\n",
    "sns.distplot(outside_sales[\"Salary ($)\"],bins=10, \n",
    "             hist=False,\n",
    "             kde=True,\n",
    "            label = \"Outside salary\")\n",
    "sns.distplot(inside_sales[\"Salary ($)\"],bins=10, \n",
    "             hist=False,\n",
    "             kde=True,\n",
    "            label = \"Inside salary\")\n",
    "plt.title(\"Outside versus Inside sales Plot\",\n",
    "          fontdict={'fontsize': 16,\n",
    "                    'fontweight' : 28} )\n",
    "plt.legend();"
   ]
  },
  {
   "cell_type": "markdown",
   "metadata": {},
   "source": [
    "#from the above plot it seems that \n",
    "    * inside sales - Around 50k to 60k\n",
    "    * outside sales - Around 65k to 80k\n",
    "The inside sales plot is much thinner (t score to be considered for this) than the outside sales plot (z score for this)"
   ]
  },
  {
   "cell_type": "code",
   "execution_count": 22,
   "metadata": {},
   "outputs": [
    {
     "data": {
      "image/png": "[encoded data removed]",
      "text/plain": [
       "<Figure size 432x288 with 1 Axes>"
      ]
     },
     "metadata": {
      "needs_background": "light"
     },
     "output_type": "display_data"
    }
   ],
   "source": [
    "sns.boxplot(x=sales[\"Salary ($)\"],\n",
    "            y=sales[\"Experience\"],\n",
    "           hue=sales[\"Position\"]);"
   ]
  },
  {
   "cell_type": "code",
   "execution_count": 19,
   "metadata": {},
   "outputs": [
    {
     "name": "stdout",
     "output_type": "stream",
     "text": [
      "         Salary ($)\n",
      "count     60.000000\n",
      "mean   73830.433333\n",
      "std     7922.960411\n",
      "min    60259.000000\n",
      "25%    67007.750000\n",
      "50%    76315.500000\n",
      "75%    78972.250000\n",
      "max    88730.000000 \n",
      "\n",
      "\n",
      "\n",
      "          Salary ($)\n",
      "count     60.000000\n",
      "mean   56020.516667\n",
      "std     3589.826121\n",
      "min    48621.000000\n",
      "25%    53190.750000\n",
      "50%    56209.500000\n",
      "75%    58202.000000\n",
      "max    64562.000000\n"
     ]
    }
   ],
   "source": [
    "#get 5 point summary\n",
    "print(outside_sales.describe(),'\\n\\n\\n\\n',inside_sales.describe())"
   ]
  },
  {
   "cell_type": "code",
   "execution_count": 30,
   "metadata": {},
   "outputs": [
    {
     "name": "stdout",
     "output_type": "stream",
     "text": [
      "1.1984361138174986e-56\n"
     ]
    }
   ],
   "source": [
    "from statsmodels.stats import weightstats as stests\n",
    "ztest , pval1 = stests.ztest(outside_sales[\"Salary ($)\"], x2=inside_sales[\"Salary ($)\"], value=0, alternative='two-sided')\n",
    "\n",
    "print(float(pval1))"
   ]
  },
  {
   "cell_type": "markdown",
   "metadata": {},
   "source": [
    "### Anova Testing"
   ]
  },
  {
   "cell_type": "code",
   "execution_count": 3,
   "metadata": {},
   "outputs": [],
   "source": [
    "import statsmodels.api as sm\n",
    "from statsmodels.formula.api import ols"
   ]
  },
  {
   "cell_type": "code",
   "execution_count": null,
   "metadata": {},
   "outputs": [],
   "source": []
  },
  {
   "cell_type": "code",
   "execution_count": 31,
   "metadata": {},
   "outputs": [
    {
     "name": "stdout",
     "output_type": "stream",
     "text": [
      "    Multiple Comparison of Means - Tukey HSD, FWER=0.05    \n",
      "===========================================================\n",
      "group1 group2 meandiff p-adj     lower      upper    reject\n",
      "-----------------------------------------------------------\n",
      "  High    Low -6519.05 0.0145 -11964.6629 -1073.4371   True\n",
      "  High Medium  2279.45 0.5767  -3166.1629  7725.0629  False\n",
      "   Low Medium   8798.5  0.001   3352.8871 14244.1129   True\n",
      "-----------------------------------------------------------\n",
      "['High' 'Low' 'Medium']\n"
     ]
    }
   ],
   "source": [
    "from statsmodels.stats.multicomp import pairwise_tukeyhsd\n",
    "from statsmodels.stats.multicomp import MultiComparison\n",
    "\n",
    "mc = MultiComparison(sales[\"Salary ($)\"],sales[\"Experience\"])\n",
    "result = mc.tukeyhsd()\n",
    "\n",
    "print(result)\n",
    "print(mc.groupsunique)"
   ]
  },
  {
   "cell_type": "code",
   "execution_count": 43,
   "metadata": {},
   "outputs": [
    {
     "name": "stdout",
     "output_type": "stream",
     "text": [
      "Z score for outside sales  :  [-0.42199027 -1.46976397  0.66829515 -0.12669933 -1.26955162 -0.63289418\n",
      " -1.31766368  1.2747871   1.18950911 -0.11664416  1.17219895 -1.21456642\n",
      "  1.89642543  0.49035691 -0.31634739  0.54012361 -1.05444745 -0.99360733\n",
      "  0.70673389 -1.61677304  0.62107406  0.25946994  0.3731315  -1.63395591\n",
      " -1.59500806  1.14088793  0.45471834  0.64983947  0.63889334  0.07109469\n",
      "  1.63702762  0.44873616  0.50779435  0.50537601  0.55221527 -0.67082379\n",
      " -0.95593228 -0.839216   -1.47714624  0.44300853  0.38598683  1.00800701\n",
      " -1.39365019  0.24954206 -1.54651416  1.11899567  0.19035659 -0.66967827\n",
      "  0.97949616  1.04733671  0.06918548  0.87385328  0.48259279 -0.5967465\n",
      " -0.7926313  -1.68894112  1.68768529  0.62005581  1.18378149 -1.72737986]\n",
      "T score for inside sales  :  [-0.58501189 -0.93447118 -1.12071837  0.47684993 -2.07864133 -0.35185175\n",
      " -1.0502085  -0.10914048 -1.1780252  -1.14403438  0.15941505  0.90805572\n",
      " -0.71816599  1.38448896 -0.89542388  2.39943784 -0.94851697 -0.01728101\n",
      "  0.08946701  2.18509907  0.85299622  0.96536255 -0.53332338  0.78473368\n",
      "  0.91451679  0.42937516  2.06233885 -0.78361938  1.71203682  0.01670981\n",
      " -0.73839193 -0.59737218  0.27234321 -0.48837684 -0.40129294  0.12373874\n",
      " -1.85362776  0.57151857  0.57095673  0.7993413   0.76647415 -0.95020246\n",
      "  1.86934968 -1.40275786  1.05272737  0.15379673  0.47713085  0.37796756\n",
      "  0.46336597 -1.10920082 -1.3769136   0.09311891 -1.34123729 -0.31729911\n",
      " -0.15127785 -0.71816599  0.71562838  0.57854146  0.49651404 -0.82884683]\n"
     ]
    }
   ],
   "source": [
    "#z score and t score\n",
    "from scipy import stats\n",
    "print(\"Z score for outside sales  : \",stats.zscore(outside_sales[\"Salary ($)\"]))\n",
    "      \n",
    "print(\"Z score for inside sales  : \",stats.zscore(inside_sales[\"Salary ($)\"]))"
   ]
  },
  {
   "cell_type": "code",
   "execution_count": 4,
   "metadata": {},
   "outputs": [
    {
     "data": {
      "text/plain": [
       "Observation\n",
       "1      53938\n",
       "2      52694\n",
       "4      52031\n",
       "6      57718\n",
       "8      48621\n",
       "10     54768\n",
       "11     52282\n",
       "12     55632\n",
       "14     51827\n",
       "15     51948\n",
       "16     56588\n",
       "20     59253\n",
       "21     53464\n",
       "23     60949\n",
       "24     52833\n",
       "28     64562\n",
       "29     52644\n",
       "30     55959\n",
       "33     56339\n",
       "35     63799\n",
       "38     59057\n",
       "40     59457\n",
       "43     54122\n",
       "45     58814\n",
       "46     59276\n",
       "48     57549\n",
       "51     63362\n",
       "52     53231\n",
       "53     62115\n",
       "54     56080\n",
       "55     53392\n",
       "57     53894\n",
       "59     56990\n",
       "62     54282\n",
       "64     54592\n",
       "65     56461\n",
       "67     49422\n",
       "70     58055\n",
       "73     58053\n",
       "79     58866\n",
       "83     58749\n",
       "84     52638\n",
       "85     62675\n",
       "86     51027\n",
       "90     59768\n",
       "91     56568\n",
       "94     57719\n",
       "95     57366\n",
       "96     57670\n",
       "97     52072\n",
       "102    51119\n",
       "104    56352\n",
       "109    51246\n",
       "110    54891\n",
       "112    55482\n",
       "113    53464\n",
       "114    58568\n",
       "115    58080\n",
       "118    57788\n",
       "119    53070\n",
       "Name: Salary ($), dtype: int64"
      ]
     },
     "execution_count": 4,
     "metadata": {},
     "output_type": "execute_result"
    }
   ],
   "source": [
    "inside_sales[\"Salary ($)\"]"
   ]
  },
  {
   "cell_type": "code",
   "execution_count": null,
   "metadata": {},
   "outputs": [],
   "source": []
  }
 ],
 "metadata": {
  "kernelspec": {
   "display_name": "Python 3",
   "language": "python",
   "name": "python3"
  },
  "language_info": {
   "codemirror_mode": {
    "name": "ipython",
    "version": 3
   },
   "file_extension": ".py",
   "mimetype": "text/x-python",
   "name": "python",
   "nbconvert_exporter": "python",
   "pygments_lexer": "ipython3",
   "version": "3.7.6"
  }
 },
 "nbformat": 4,
 "nbformat_minor": 4
}
