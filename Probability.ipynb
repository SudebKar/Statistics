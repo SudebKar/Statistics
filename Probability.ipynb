{
 "cells": [
  {
   "cell_type": "code",
   "execution_count": 1,
   "metadata": {},
   "outputs": [],
   "source": [
    "import numpy as np\n",
    "import random"
   ]
  },
  {
   "cell_type": "code",
   "execution_count": 11,
   "metadata": {},
   "outputs": [
    {
     "name": "stdout",
     "output_type": "stream",
     "text": [
      "Probability of rolling even num or greater than 7 is  74.99 %\n"
     ]
    }
   ],
   "source": [
    "def roll_the_dice(n_simulations =100000):\n",
    "    count = 0\n",
    "    \n",
    "    for i in range(n_simulations):\n",
    "        die1 = random.randint(1,8)\n",
    "        die2 = random.randint(1,6)\n",
    "        \n",
    "        score = die1 + die2\n",
    "        \n",
    "        if((score % 2 == 0) or (score > 7)):\n",
    "            count += 1\n",
    "    \n",
    "    return count/n_simulations\n",
    "\n",
    "\n",
    "print(\"Probability of rolling even num or greater than 7 is \",np.round(roll_the_dice()*100,2),'%')"
   ]
  },
  {
   "cell_type": "code",
   "execution_count": null,
   "metadata": {},
   "outputs": [],
   "source": [
    "trials = 10000\n",
    "totalA = 12\n",
    "totalB = 18\n",
    "\n",
    "successes = 0\n",
    "\n",
    "choice_list = list('A'*totalA + 'B'*totalB)\n",
    "\n",
    "def transistor():\n",
    "    return np.random.choice(choice_list)\n",
    "\n"
   ]
  },
  {
   "cell_type": "code",
   "execution_count": 13,
   "metadata": {},
   "outputs": [
    {
     "name": "stdout",
     "output_type": "stream",
     "text": [
      "[ 6  7  2  4  3  2  5  5  5  6  4  4  8  7  8  2  5  5  5  4  5  5  3  4\n",
      "  4  5  5  5  5  4  5  3  8  7  4  9  7  6  6  6  6  5  6  6  4  7  7  6\n",
      "  2  3  5  3  5  4  4  7  7  3  5  5  6  3  4  4  5  4  5  4  3  5  5  3\n",
      "  6  4  5  5  5  3  4  6  3  4  3  7  4  3  4  5  6  4  6  6  5  6  5  7\n",
      "  7  8  7  4  4  4  5  5  8  5  5  5  3  6  5  5  4  5  6  3  5  3  6  6\n",
      "  5  3  5  6  3  7  7  3  4  6  3  5  5  3  3  5  5  7  7  4  8  4  6  6\n",
      "  4  3  6  2  7  5  3  7  5  7  5  5  5  9  5  6  6  5  6  5  8  4  6  4\n",
      "  8  5  7  4  8  6  5  3  5  4  5  6  6  5  3  4  4  4  5  4  7  4  5  5\n",
      "  5  2  6  6  7  6  5  5  5  7  7  6  3  3  6  5  6  5  3  3  4  5  7  4\n",
      "  5  2  4  5  6  5  7  3  4  5  6  7  4  5  6  5  3  4  4  7  3  6  5  5\n",
      "  3  6  4  5  6  7  7  6  7  6  3  7  6  8  5  3  6  4  3  4  5  3  7  6\n",
      "  5  7  4  4  5  5  4  5  6  5  3  5  4  4  8  3  6  4  6  5  5  6  4  7\n",
      "  5  3  4  4  8  7  5  5  7  3  4  2  4  6  9  6  3  6  9  5  7  4  3  5\n",
      "  5  4  4  6  3  6  4  4  6  5  6  6  2  5  5  3  4  8  4  6  1  5  7  7\n",
      "  3  8  4  9  6  7  5  4  4  3  5  5  7  6  8  7  5  9  6  4  4  4  5  7\n",
      "  5  3  6  7  5  7  6  4  2  5  5  6  4  2  6  4  5  7  5  5  5  4  4  4\n",
      "  4  5  4  4  8  5  5  6  4  6  6  7  2  2  3  4  5  7  3  9  5  8  5  6\n",
      "  5  7  5  3  5  5  6  7  6  5  4  6  7  7  3  2  7  6  6  8  5  4  5  5\n",
      "  7  4  6  6  7  6  7  6  5  6  5  3  6  4  4  6  4  5  5  3  6  6  7  3\n",
      "  7  5  4  5  4  5  5  5  5  7  6  4  5  4  5  5  7  5  5  5  5  6  5  4\n",
      "  5  5  5  6  5  7  3  5  3  7  4  6  3  3  6  6  4  4  3  6  8  6  5  7\n",
      "  4  5  7  3  4  4  3  5  5  4  4  5  5  2  6  7  4  6  3  4  4  4  3  3\n",
      "  3  3  6  5  5  5  5  7  5  7  4  5 10  6  5  5  8  2  5  5  4  3  3  6\n",
      "  4  2  5  5  7  4  4  5  3  4  4  7  4  7  4  7  4  8  4  4  6  7  6  4\n",
      "  5  4  4  5  4  5  5  5  6  4  6  4  7  7  4  6  4  5  5  6  4  5  5  5\n",
      "  4  7  4  9  7  5  9  6  5  5  6  7  4  7  4  7  5  6  3  3  5  5  3  8\n",
      "  2  4  5  5  4  2  7  5  5  5  3  4  7  4  4  2  6  4  5  5  4  4  5  3\n",
      "  3  3  9  6  4  5  6  4  5  3  5  6  7  6  5  5  3  5  6  5  5  8  6  3\n",
      "  6  6  7  2  6  8  9  2  7  3  5  2  6  6  7  6  5  5  5  5  6  2  5  3\n",
      "  5  6  5  7  7  3  3  5  5  5  5  8  4  5  7  5  4  6  4  5  1  2  5  7\n",
      "  5  5  6  8  3  5  3  5  3  2  2  3  6  6  1  6  6  7  6  8  4  5  4  3\n",
      "  5  5  3  5  2  4  5  4  7  4  6  3  8  3  6  7  7  6  6  4  4  8  4  5\n",
      "  5  6  2  7  5  6  5  7  4  6  6  5  6  4  6  6  4  5  6  4  6  5  4  5\n",
      "  6  6  5  3  6  3  6  4  7  4  3  7  6  4  3  8  3  3  2  5  5  4  6  8\n",
      "  7  6  6  6  4  2  5  6  5  4  6  5  4  2  7  5  6  5  7  5  6  4  8  3\n",
      "  4  6  6  4  7  5  7  4  8  8  5  6  3  3  2  6  7  7  5  5  5  7  6  4\n",
      "  5  4  7  5  4  7  7  3  6  4  2  4  3  5  5  7  3  7  7  4  4  5  7  8\n",
      "  6  3  4  9  6  8  4  4  3  5  5  3  4  4  5  1  3  2  8  4  5  6  4  8\n",
      "  5  6  7  6  5  3  4  6  4  8  5  5  3  2  4  5  3  6  6  9  3  7  5  5\n",
      "  5  4  7  5  5  6  9  5  6  6  3  5  3  6  7  3  3  3  5  2  4  6  7  4\n",
      "  9  4  4  4  5  4  4  7  3  7  2  7  6  7  6  8  8  4  5  5  1  2  6  5\n",
      "  3  4  6  3  7  7  3  5  4  6  3  4  4  6  6  6]\n"
     ]
    }
   ],
   "source": [
    "#binomial\n",
    "#result of flipping coin 10 times, tested 1000 times\n",
    "\n",
    "n,p=10,0.5\n",
    "s = np.random.binomial(n,p,1000)\n",
    "print(s)"
   ]
  },
  {
   "cell_type": "code",
   "execution_count": 14,
   "metadata": {},
   "outputs": [
    {
     "data": {
      "image/png": "[encoded data removed]",
      "text/plain": [
       "<Figure size 432x288 with 1 Axes>"
      ]
     },
     "metadata": {
      "needs_background": "light"
     },
     "output_type": "display_data"
    }
   ],
   "source": [
    "import seaborn as sns\n",
    "from scipy.stats import binom\n",
    "import matplotlib.pyplot as plt\n",
    "\n",
    "binom.rvs(n=10,p=0.5)\n",
    "binom.rvs(size=5,n=10,p=0.5)\n",
    "\n",
    "data_binom = binom.rvs(n=10,p=0.5,size=10000)\n",
    "ax = sns.distplot(data_binom,\n",
    "                 kde=False,\n",
    "                 color='skyblue',\n",
    "                 hist_kws={\"linewidth\":15, 'alpha':1})\n",
    "ax.set(xlabel='Binomial', ylabel='Frequency')\n",
    "plt.show()"
   ]
  },
  {
   "cell_type": "code",
   "execution_count": null,
   "metadata": {},
   "outputs": [],
   "source": []
  },
  {
   "cell_type": "code",
   "execution_count": null,
   "metadata": {},
   "outputs": [],
   "source": []
  },
  {
   "cell_type": "code",
   "execution_count": null,
   "metadata": {},
   "outputs": [],
   "source": []
  },
  {
   "cell_type": "code",
   "execution_count": null,
   "metadata": {},
   "outputs": [],
   "source": []
  },
  {
   "cell_type": "code",
   "execution_count": null,
   "metadata": {},
   "outputs": [],
   "source": []
  }
 ],
 "metadata": {
  "kernelspec": {
   "display_name": "Python 3",
   "language": "python",
   "name": "python3"
  },
  "language_info": {
   "codemirror_mode": {
    "name": "ipython",
    "version": 3
   },
   "file_extension": ".py",
   "mimetype": "text/x-python",
   "name": "python",
   "nbconvert_exporter": "python",
   "pygments_lexer": "ipython3",
   "version": "3.7.6"
  }
 },
 "nbformat": 4,
 "nbformat_minor": 4
}
