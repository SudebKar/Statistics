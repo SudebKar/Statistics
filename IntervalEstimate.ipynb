{
 "cells": [
  {
   "cell_type": "code",
   "execution_count": 1,
   "metadata": {},
   "outputs": [],
   "source": [
    "# Design a Python Program for calculationg the Interval Estimates and Point Estimates using the Various Distributions?\n",
    "\n",
    "# def interval_estimate():\n",
    "\n",
    "# -----------------\n",
    "# ----------------\n",
    "# -----------------\n",
    "# ----------------\n",
    "# ---------------\n",
    "\n",
    "# return values (x,y,z)\n",
    "\n",
    "\n",
    "# 1. Should be able to calculate Z based distribution and t dist automatically and also return inermediates\n",
    "# interval_estimate(sample_size = 45/15, tail = one/two, mean, std_dev, ci, alpha/confidencelevel)\n",
    "# interval estimate\n"
   ]
  },
  {
   "cell_type": "code",
   "execution_count": 2,
   "metadata": {},
   "outputs": [],
   "source": [
    "import math\n",
    "import pandas as pd\n",
    "import numpy as np"
   ]
  },
  {
   "cell_type": "code",
   "execution_count": 3,
   "metadata": {},
   "outputs": [],
   "source": [
    "def sort_tuple(tup):        \n",
    "    # getting length of list of tuples \n",
    "    lst = len(tup)  \n",
    "    for i in range(0, lst):            \n",
    "        for j in range(0, lst-i-1):  \n",
    "            if (tup[j][1] > tup[j + 1][1]):  \n",
    "                temp = tup[j]  \n",
    "                tup[j]= tup[j + 1]  \n",
    "                tup[j + 1]= temp  \n",
    "    return tup  "
   ]
  },
  {
   "cell_type": "code",
   "execution_count": 4,
   "metadata": {},
   "outputs": [],
   "source": [
    "def find_zScore(a):\n",
    "    z_table = pd.read_excel(\"z_&_t_tables.xls\",sheet_name=\"z table\",index_col=\"Z      \")\n",
    "    z_table.dropna(inplace=True)\n",
    "    z_table = z_table.round(decimals=4)\n",
    "    \n",
    "    z_dict = {0.90 : (0.50,0.8389),\n",
    "             1.9 : (0.8413,0.9767),\n",
    "             2.9 : (0.9772,0.9986),\n",
    "             3.8 : (0.9987,0.9999),\n",
    "             4.9 : (0.9999,1)}\n",
    "    c = 1 - a\n",
    "    chk_rng = [i[0] for i in z_dict.items() if (c >= i[1][0]) & (c<=i[1][1])][0]\n",
    "    d = dict()\n",
    "    for i in np.arange(chk_rng - 1,round(chk_rng),0.1):\n",
    "        ser = z_table.loc[round(i,1)]\n",
    "        d[round(i,1)] = [(i,abs(c - ser.get(i))) for i in ser.index]\n",
    "    \n",
    "    for k,v in d.items():\n",
    "        sorted_v = sort_tuple(v)\n",
    "        d[k] = sorted_v[0]\n",
    "    \n",
    "    min_diff = sort_tuple(list(d.values()))[0]\n",
    "    for k in d.keys():\n",
    "        if d.get(k) == min_diff:\n",
    "            z_score = round(k+min_diff[0],2)\n",
    "    return z_score\n"
   ]
  },
  {
   "cell_type": "code",
   "execution_count": 5,
   "metadata": {},
   "outputs": [],
   "source": [
    "def find_tScore(a,sample_size):\n",
    "    n = sample_size - 1\n",
    "    t_table = pd.read_excel(\"z_&_t_tables.xls\",sheet_name=\"t table\",index_col=\"degrees of freedom\")\n",
    "    t_table.dropna(inplace=True)\n",
    "    return round(t_table[a].loc[n],5)"
   ]
  },
  {
   "cell_type": "code",
   "execution_count": 7,
   "metadata": {},
   "outputs": [],
   "source": [
    "def interval_estimate(mean,std,sample_size=30,tails=2,confidence_level=95):\n",
    "    '''\n",
    "    This function is to be used for getting the interval estimate and the point estimate for a given sample size, tail,\n",
    "    mean, standard deviation and confidence_level.\n",
    "    Parameters ::\n",
    "    sample_size : Provide sample size (Based on this type of distribution ); \n",
    "                    default is 30 if no value provided, to consider a z-distribution\n",
    "    tails: Provide number of tails (1 or 2); \n",
    "            default is 2 if value not provide, to consider alpha/2 for calculation\n",
    "    mean : Mandatory parameter. Enter mean in decimal\n",
    "    std : Mandatory parameter. Enter standard deviation in decimal\n",
    "    confidence_level : Enter the confidence level in integer;\n",
    "                        default is 95%\n",
    "    '''\n",
    "    if sample_size >= 30:\n",
    "        print(\"Considering z score for calculating interval estimate\")\n",
    "        if tails == 1:\n",
    "            a = 1 - (confidence_level * 0.01)\n",
    "        elif tails == 2:\n",
    "            a = (1 - (confidence_level * 0.01))/2\n",
    "        \n",
    "        z_score = find_zScore(a)\n",
    "        margin_of_error = (z_score * std)/math.sqrt(sample_size)\n",
    "        lower_lim = round((mean - margin_of_error),2)\n",
    "        upper_lim = round((mean + margin_of_error),2)\n",
    "        print(\"Considering samples as {} with a confidence level of {} \\nInterval estimate is between {} and {}\"\n",
    "              .format(sample_size,confidence_level,lower_lim,upper_lim))\n",
    "    elif sample_size < 30:\n",
    "        print(\"Considering t score for calculating interval estimate\")\n",
    "        if tails == 1:\n",
    "            a = 1 - (confidence_level * 0.01)\n",
    "        elif tails == 2:\n",
    "            a = (1 - (confidence_level * 0.01))/2\n",
    "        \n",
    "        t_score = find_tScore(a)\n",
    "        margin_of_error = (t_score * std)/math.sqrt(sample_size)\n",
    "        lower_lim = round((mean - margin_of_error),2)\n",
    "        upper_lim = round((mean + margin_of_error),2)\n",
    "        print(\"Considering samples as {} with a confidence level of {} \\nInterval estimate is between {} and {}\"\n",
    "              .format(sample_size,confidence_level,lower_lim,upper_lim))\n",
    "    \n",
    "    return (lower_lim,upper_lim)\n",
    "        "
   ]
  },
  {
   "cell_type": "code",
   "execution_count": 8,
   "metadata": {},
   "outputs": [
    {
     "name": "stdout",
     "output_type": "stream",
     "text": [
      "Considering z score for calculating interval estimate\n",
      "Considering samples as 80 with a confidence level of 95 \n",
      "Interval estimate is between 999.56 and 1000.44\n"
     ]
    }
   ],
   "source": [
    "if __name__ == '__main__':\n",
    "    try:\n",
    "        interval_estimate(1000,2.0,sample_size=80,tails=2,confidence_level=95)\n",
    "    except Exception as e:\n",
    "        pass\n"
   ]
  },
  {
   "cell_type": "code",
   "execution_count": null,
   "metadata": {},
   "outputs": [],
   "source": []
  },
  {
   "cell_type": "code",
   "execution_count": null,
   "metadata": {},
   "outputs": [],
   "source": []
  }
 ],
 "metadata": {
  "kernelspec": {
   "display_name": "Python 3",
   "language": "python",
   "name": "python3"
  },
  "language_info": {
   "codemirror_mode": {
    "name": "ipython",
    "version": 3
   },
   "file_extension": ".py",
   "mimetype": "text/x-python",
   "name": "python",
   "nbconvert_exporter": "python",
   "pygments_lexer": "ipython3",
   "version": "3.8.3"
  }
 },
 "nbformat": 4,
 "nbformat_minor": 4
}
