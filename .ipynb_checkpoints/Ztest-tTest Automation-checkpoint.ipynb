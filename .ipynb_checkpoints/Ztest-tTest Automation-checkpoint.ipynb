{
 "cells": [
  {
   "cell_type": "markdown",
   "metadata": {},
   "source": [
    "### Design a hypothesis testing solution for business\n",
    "#####  * Automatically decide z test or t test based on sample size\n",
    "#####  * Design for alpha = 0.05 only\n",
    "#####  * It should perform both one tail and two tail testing"
   ]
  },
  {
   "cell_type": "code",
   "execution_count": 19,
   "metadata": {},
   "outputs": [],
   "source": [
    "import pandas as pd\n",
    "import math\n",
    "import numpy as np\n",
    "import matplotlib.pyplot as plt\n",
    "from scipy.stats import norm\n",
    "# if using a Jupyter notebook, inlcude:\n",
    "%matplotlib inline"
   ]
  },
  {
   "cell_type": "code",
   "execution_count": 28,
   "metadata": {},
   "outputs": [],
   "source": [
    "def hypo_testing(tails, sample, std, population_mean, sample_mean):\n",
    "    \"\"\"This funtion returns whether the null hypothesis testing is accepted or rejected, \n",
    "    i.e. True for accept and False for reject : \n",
    "    * Automatically decide z test or t test based on sample size\n",
    "    * Design for alpha = 0.05 only\n",
    "    * It should perform both one tail and two tail testing\n",
    "    \n",
    "    Parameters : \n",
    "        tails : Enter 1 for one tail test and 2 for two tailed.\n",
    "        sample : Enter the sample size in integers\n",
    "        std : Standard deviation of sample\n",
    "        sample_mean :  mean of the sample\n",
    "        population_mean : Hypothetical mean\n",
    "    \"\"\"\n",
    "    result = False\n",
    "    if tails == 1:\n",
    "        alpha = 0.05\n",
    "        rel = '>='\n",
    "        alt_rel = '<'\n",
    "    elif tails == 2:\n",
    "        alpha = 0.025\n",
    "        rel = '='\n",
    "        alt_rel = '!='\n",
    "    \n",
    "    z_score = {0.05 : 1.68, 0.025 : 1.96}\n",
    "    \n",
    "    t_table = pd.read_excel(\"z_&_t_tables.xls\",sheet_name=\"t table\", index_col=\"degrees of freedom\")\n",
    "    t_score = {0.05 : dict(t_table[0.05].loc[t_table.index<30]),\n",
    "               0.025 : dict(t_table[0.025].loc[t_table.index<30])}\n",
    "    \n",
    "    if sample >= 30 : \n",
    "        print(\"Considering z test as sample size >= 30\")\n",
    "        z_val = z_score[alpha]\n",
    "        print(\"Z value : \",z_val)\n",
    "        z_stats = (sample_mean - population_mean)* math.sqrt(sample)/std\n",
    "        print(\"Z statistics : \",z_stats)\n",
    "        if (tails == 1) & (z_stats < z_val):\n",
    "            result = True\n",
    "        elif (tails == 2) & (z_stats < z_val) & (z_stats > (z_val * -1)) : \n",
    "            result = True\n",
    "    else : \n",
    "        print(\"Considering t test as sample size < 30\")\n",
    "        t_val = t_score[alpha].get(sample-1)\n",
    "        print(\"T value : \",t_val)\n",
    "        t_stats = (sample_mean - population_mean)* math.sqrt(sample)/std\n",
    "        print(\"T statistics : \",t_stats)\n",
    "        if (tails == 1) & (t_stats < t_val):\n",
    "            result = True\n",
    "        elif (tails == 2) & (t_stats < t_val) & (t_stats > (t_val * -1)) : \n",
    "            result = True\n",
    "    print(\"Hypothesis :  H0 : mean {} {}\".format(rel, population_mean))\n",
    "    print(\"              Ha : mean {} {}\".format(alt_rel, population_mean))\n",
    "    \n",
    "    \n",
    "    return result"
   ]
  },
  {
   "cell_type": "code",
   "execution_count": 29,
   "metadata": {},
   "outputs": [
    {
     "name": "stdout",
     "output_type": "stream",
     "text": [
      "Considering z test as sample size >= 30\n",
      "Z value :  1.68\n",
      "Z statistics :  1.9364916731037085\n",
      "Hypothesis :  H0 : mean >= 10.0\n",
      "              Ha : mean < 10.0\n",
      "Null hypothesis rejected!! \n"
     ]
    }
   ],
   "source": [
    "if __name__ == '__main__' :\n",
    "    res = hypo_testing(1,60,2.0,10.0,10.5)\n",
    "    if res : \n",
    "        print(\"Null hypothesis accepted!! \")\n",
    "    else : \n",
    "        print(\"Null hypothesis rejected!! \")"
   ]
  },
  {
   "cell_type": "code",
   "execution_count": null,
   "metadata": {},
   "outputs": [],
   "source": []
  },
  {
   "cell_type": "code",
   "execution_count": null,
   "metadata": {},
   "outputs": [],
   "source": []
  },
  {
   "cell_type": "code",
   "execution_count": null,
   "metadata": {},
   "outputs": [],
   "source": []
  },
  {
   "cell_type": "code",
   "execution_count": 11,
   "metadata": {},
   "outputs": [],
   "source": []
  },
  {
   "cell_type": "code",
   "execution_count": 16,
   "metadata": {},
   "outputs": [],
   "source": []
  },
  {
   "cell_type": "code",
   "execution_count": null,
   "metadata": {},
   "outputs": [],
   "source": []
  }
 ],
 "metadata": {
  "kernelspec": {
   "display_name": "Python 3",
   "language": "python",
   "name": "python3"
  },
  "language_info": {
   "codemirror_mode": {
    "name": "ipython",
    "version": 3
   },
   "file_extension": ".py",
   "mimetype": "text/x-python",
   "name": "python",
   "nbconvert_exporter": "python",
   "pygments_lexer": "ipython3",
   "version": "3.8.3"
  }
 },
 "nbformat": 4,
 "nbformat_minor": 4
}
